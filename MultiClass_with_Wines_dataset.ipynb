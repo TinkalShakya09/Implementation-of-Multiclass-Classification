{
 "cells": [
  {
   "cell_type": "code",
   "execution_count": 211,
   "metadata": {},
   "outputs": [],
   "source": [
    "import pandas as pd"
   ]
  },
  {
   "cell_type": "markdown",
   "metadata": {},
   "source": [
    "# read the data"
   ]
  },
  {
   "cell_type": "code",
   "execution_count": 212,
   "metadata": {},
   "outputs": [],
   "source": [
    "data= pd.read_csv(\"Wines.csv\")"
   ]
  },
  {
   "cell_type": "code",
   "execution_count": 213,
   "metadata": {},
   "outputs": [
    {
     "data": {
      "text/html": [
       "<div>\n",
       "<style scoped>\n",
       "    .dataframe tbody tr th:only-of-type {\n",
       "        vertical-align: middle;\n",
       "    }\n",
       "\n",
       "    .dataframe tbody tr th {\n",
       "        vertical-align: top;\n",
       "    }\n",
       "\n",
       "    .dataframe thead th {\n",
       "        text-align: right;\n",
       "    }\n",
       "</style>\n",
       "<table border=\"1\" class=\"dataframe\">\n",
       "  <thead>\n",
       "    <tr style=\"text-align: right;\">\n",
       "      <th></th>\n",
       "      <th>Class</th>\n",
       "      <th>Alcohol</th>\n",
       "      <th>Malic_acid</th>\n",
       "      <th>Ash</th>\n",
       "      <th>Alcalinity_of_ash</th>\n",
       "      <th>Magnesium</th>\n",
       "      <th>Total_phenols</th>\n",
       "      <th>Flavanoids</th>\n",
       "      <th>Nonflavanoid_phenols</th>\n",
       "      <th>Proanthocyanins</th>\n",
       "      <th>Color_intensity</th>\n",
       "      <th>Hue</th>\n",
       "      <th>OD</th>\n",
       "      <th>Proline</th>\n",
       "    </tr>\n",
       "  </thead>\n",
       "  <tbody>\n",
       "    <tr>\n",
       "      <th>0</th>\n",
       "      <td>1</td>\n",
       "      <td>14.23</td>\n",
       "      <td>1.71</td>\n",
       "      <td>2.43</td>\n",
       "      <td>15.6</td>\n",
       "      <td>127</td>\n",
       "      <td>2.80</td>\n",
       "      <td>3.06</td>\n",
       "      <td>0.28</td>\n",
       "      <td>2.29</td>\n",
       "      <td>5.64</td>\n",
       "      <td>1.04</td>\n",
       "      <td>3.92</td>\n",
       "      <td>1065</td>\n",
       "    </tr>\n",
       "    <tr>\n",
       "      <th>1</th>\n",
       "      <td>1</td>\n",
       "      <td>13.20</td>\n",
       "      <td>1.78</td>\n",
       "      <td>2.14</td>\n",
       "      <td>11.2</td>\n",
       "      <td>100</td>\n",
       "      <td>2.65</td>\n",
       "      <td>2.76</td>\n",
       "      <td>0.26</td>\n",
       "      <td>1.28</td>\n",
       "      <td>4.38</td>\n",
       "      <td>1.05</td>\n",
       "      <td>3.40</td>\n",
       "      <td>1050</td>\n",
       "    </tr>\n",
       "    <tr>\n",
       "      <th>2</th>\n",
       "      <td>1</td>\n",
       "      <td>13.16</td>\n",
       "      <td>2.36</td>\n",
       "      <td>2.67</td>\n",
       "      <td>18.6</td>\n",
       "      <td>101</td>\n",
       "      <td>2.80</td>\n",
       "      <td>3.24</td>\n",
       "      <td>0.30</td>\n",
       "      <td>2.81</td>\n",
       "      <td>5.68</td>\n",
       "      <td>1.03</td>\n",
       "      <td>3.17</td>\n",
       "      <td>1185</td>\n",
       "    </tr>\n",
       "    <tr>\n",
       "      <th>3</th>\n",
       "      <td>1</td>\n",
       "      <td>14.37</td>\n",
       "      <td>1.95</td>\n",
       "      <td>2.50</td>\n",
       "      <td>16.8</td>\n",
       "      <td>113</td>\n",
       "      <td>3.85</td>\n",
       "      <td>3.49</td>\n",
       "      <td>0.24</td>\n",
       "      <td>2.18</td>\n",
       "      <td>7.80</td>\n",
       "      <td>0.86</td>\n",
       "      <td>3.45</td>\n",
       "      <td>1480</td>\n",
       "    </tr>\n",
       "    <tr>\n",
       "      <th>4</th>\n",
       "      <td>1</td>\n",
       "      <td>13.24</td>\n",
       "      <td>2.59</td>\n",
       "      <td>2.87</td>\n",
       "      <td>21.0</td>\n",
       "      <td>118</td>\n",
       "      <td>2.80</td>\n",
       "      <td>2.69</td>\n",
       "      <td>0.39</td>\n",
       "      <td>1.82</td>\n",
       "      <td>4.32</td>\n",
       "      <td>1.04</td>\n",
       "      <td>2.93</td>\n",
       "      <td>735</td>\n",
       "    </tr>\n",
       "    <tr>\n",
       "      <th>...</th>\n",
       "      <td>...</td>\n",
       "      <td>...</td>\n",
       "      <td>...</td>\n",
       "      <td>...</td>\n",
       "      <td>...</td>\n",
       "      <td>...</td>\n",
       "      <td>...</td>\n",
       "      <td>...</td>\n",
       "      <td>...</td>\n",
       "      <td>...</td>\n",
       "      <td>...</td>\n",
       "      <td>...</td>\n",
       "      <td>...</td>\n",
       "      <td>...</td>\n",
       "    </tr>\n",
       "    <tr>\n",
       "      <th>173</th>\n",
       "      <td>3</td>\n",
       "      <td>13.71</td>\n",
       "      <td>5.65</td>\n",
       "      <td>2.45</td>\n",
       "      <td>20.5</td>\n",
       "      <td>95</td>\n",
       "      <td>1.68</td>\n",
       "      <td>0.61</td>\n",
       "      <td>0.52</td>\n",
       "      <td>1.06</td>\n",
       "      <td>7.70</td>\n",
       "      <td>0.64</td>\n",
       "      <td>1.74</td>\n",
       "      <td>740</td>\n",
       "    </tr>\n",
       "    <tr>\n",
       "      <th>174</th>\n",
       "      <td>3</td>\n",
       "      <td>13.40</td>\n",
       "      <td>3.91</td>\n",
       "      <td>2.48</td>\n",
       "      <td>23.0</td>\n",
       "      <td>102</td>\n",
       "      <td>1.80</td>\n",
       "      <td>0.75</td>\n",
       "      <td>0.43</td>\n",
       "      <td>1.41</td>\n",
       "      <td>7.30</td>\n",
       "      <td>0.70</td>\n",
       "      <td>1.56</td>\n",
       "      <td>750</td>\n",
       "    </tr>\n",
       "    <tr>\n",
       "      <th>175</th>\n",
       "      <td>3</td>\n",
       "      <td>13.27</td>\n",
       "      <td>4.28</td>\n",
       "      <td>2.26</td>\n",
       "      <td>20.0</td>\n",
       "      <td>120</td>\n",
       "      <td>1.59</td>\n",
       "      <td>0.69</td>\n",
       "      <td>0.43</td>\n",
       "      <td>1.35</td>\n",
       "      <td>10.20</td>\n",
       "      <td>0.59</td>\n",
       "      <td>1.56</td>\n",
       "      <td>835</td>\n",
       "    </tr>\n",
       "    <tr>\n",
       "      <th>176</th>\n",
       "      <td>3</td>\n",
       "      <td>13.17</td>\n",
       "      <td>2.59</td>\n",
       "      <td>2.37</td>\n",
       "      <td>20.0</td>\n",
       "      <td>120</td>\n",
       "      <td>1.65</td>\n",
       "      <td>0.68</td>\n",
       "      <td>0.53</td>\n",
       "      <td>1.46</td>\n",
       "      <td>9.30</td>\n",
       "      <td>0.60</td>\n",
       "      <td>1.62</td>\n",
       "      <td>840</td>\n",
       "    </tr>\n",
       "    <tr>\n",
       "      <th>177</th>\n",
       "      <td>3</td>\n",
       "      <td>14.13</td>\n",
       "      <td>4.10</td>\n",
       "      <td>2.74</td>\n",
       "      <td>24.5</td>\n",
       "      <td>96</td>\n",
       "      <td>2.05</td>\n",
       "      <td>0.76</td>\n",
       "      <td>0.56</td>\n",
       "      <td>1.35</td>\n",
       "      <td>9.20</td>\n",
       "      <td>0.61</td>\n",
       "      <td>1.60</td>\n",
       "      <td>560</td>\n",
       "    </tr>\n",
       "  </tbody>\n",
       "</table>\n",
       "<p>178 rows × 14 columns</p>\n",
       "</div>"
      ],
      "text/plain": [
       "     Class  Alcohol  Malic_acid   Ash  Alcalinity_of_ash  Magnesium  \\\n",
       "0        1    14.23        1.71  2.43               15.6        127   \n",
       "1        1    13.20        1.78  2.14               11.2        100   \n",
       "2        1    13.16        2.36  2.67               18.6        101   \n",
       "3        1    14.37        1.95  2.50               16.8        113   \n",
       "4        1    13.24        2.59  2.87               21.0        118   \n",
       "..     ...      ...         ...   ...                ...        ...   \n",
       "173      3    13.71        5.65  2.45               20.5         95   \n",
       "174      3    13.40        3.91  2.48               23.0        102   \n",
       "175      3    13.27        4.28  2.26               20.0        120   \n",
       "176      3    13.17        2.59  2.37               20.0        120   \n",
       "177      3    14.13        4.10  2.74               24.5         96   \n",
       "\n",
       "     Total_phenols  Flavanoids  Nonflavanoid_phenols  Proanthocyanins  \\\n",
       "0             2.80        3.06                  0.28             2.29   \n",
       "1             2.65        2.76                  0.26             1.28   \n",
       "2             2.80        3.24                  0.30             2.81   \n",
       "3             3.85        3.49                  0.24             2.18   \n",
       "4             2.80        2.69                  0.39             1.82   \n",
       "..             ...         ...                   ...              ...   \n",
       "173           1.68        0.61                  0.52             1.06   \n",
       "174           1.80        0.75                  0.43             1.41   \n",
       "175           1.59        0.69                  0.43             1.35   \n",
       "176           1.65        0.68                  0.53             1.46   \n",
       "177           2.05        0.76                  0.56             1.35   \n",
       "\n",
       "     Color_intensity   Hue    OD  Proline  \n",
       "0               5.64  1.04  3.92     1065  \n",
       "1               4.38  1.05  3.40     1050  \n",
       "2               5.68  1.03  3.17     1185  \n",
       "3               7.80  0.86  3.45     1480  \n",
       "4               4.32  1.04  2.93      735  \n",
       "..               ...   ...   ...      ...  \n",
       "173             7.70  0.64  1.74      740  \n",
       "174             7.30  0.70  1.56      750  \n",
       "175            10.20  0.59  1.56      835  \n",
       "176             9.30  0.60  1.62      840  \n",
       "177             9.20  0.61  1.60      560  \n",
       "\n",
       "[178 rows x 14 columns]"
      ]
     },
     "execution_count": 213,
     "metadata": {},
     "output_type": "execute_result"
    }
   ],
   "source": [
    "data"
   ]
  },
  {
   "cell_type": "code",
   "execution_count": 214,
   "metadata": {},
   "outputs": [],
   "source": [
    "y=data['Class']"
   ]
  },
  {
   "cell_type": "code",
   "execution_count": 215,
   "metadata": {},
   "outputs": [],
   "source": [
    "y_cat= pd.get_dummies(y)"
   ]
  },
  {
   "cell_type": "code",
   "execution_count": 216,
   "metadata": {},
   "outputs": [],
   "source": [
    "x=data.drop('Class', axis=1)"
   ]
  },
  {
   "cell_type": "code",
   "execution_count": 217,
   "metadata": {},
   "outputs": [],
   "source": [
    "import seaborn as sns"
   ]
  },
  {
   "cell_type": "code",
   "execution_count": 218,
   "metadata": {},
   "outputs": [
    {
     "data": {
      "text/plain": [
       "<matplotlib.axes._subplots.AxesSubplot at 0x18bcd181820>"
      ]
     },
     "execution_count": 218,
     "metadata": {},
     "output_type": "execute_result"
    },
    {
     "data": {
      "image/png": "[encoded data removed]",
      "text/plain": [
       "<Figure size 432x288 with 1 Axes>"
      ]
     },
     "metadata": {
      "needs_background": "light"
     },
     "output_type": "display_data"
    }
   ],
   "source": [
    "sns.scatterplot(x='Alcohol',y='Class',data=data)"
   ]
  },
  {
   "cell_type": "code",
   "execution_count": 219,
   "metadata": {},
   "outputs": [],
   "source": [
    "from keras.models import Sequential"
   ]
  },
  {
   "cell_type": "code",
   "execution_count": 220,
   "metadata": {},
   "outputs": [],
   "source": [
    "model=Sequential()"
   ]
  },
  {
   "cell_type": "markdown",
   "metadata": {},
   "source": [
    "# Create the layers and add the Neurons"
   ]
  },
  {
   "cell_type": "code",
   "execution_count": 221,
   "metadata": {},
   "outputs": [],
   "source": [
    "from keras.layers import Dense"
   ]
  },
  {
   "cell_type": "code",
   "execution_count": 222,
   "metadata": {},
   "outputs": [],
   "source": [
    "model.add(Dense(units=5, input_shape=(13, ), activation='relu', kernel_initializer='he_normal' ))"
   ]
  },
  {
   "cell_type": "code",
   "execution_count": 223,
   "metadata": {},
   "outputs": [],
   "source": [
    "model.add(Dense(units=8,  activation='relu', kernel_initializer='he_normal' ))"
   ]
  },
  {
   "cell_type": "code",
   "execution_count": 224,
   "metadata": {},
   "outputs": [],
   "source": [
    "model.add(Dense(units=8,  activation='relu', kernel_initializer='he_normal' ))"
   ]
  },
  {
   "cell_type": "code",
   "execution_count": 225,
   "metadata": {},
   "outputs": [],
   "source": [
    "model.add(Dense(units=3,  activation='softmax'))#, kernel_initializer='zeros', ))"
   ]
  },
  {
   "cell_type": "code",
   "execution_count": 226,
   "metadata": {},
   "outputs": [
    {
     "name": "stdout",
     "output_type": "stream",
     "text": [
      "Model: \"sequential_5\"\n",
      "_________________________________________________________________\n",
      "Layer (type)                 Output Shape              Param #   \n",
      "=================================================================\n",
      "dense_24 (Dense)             (None, 5)                 70        \n",
      "_________________________________________________________________\n",
      "dense_25 (Dense)             (None, 8)                 48        \n",
      "_________________________________________________________________\n",
      "dense_26 (Dense)             (None, 8)                 72        \n",
      "_________________________________________________________________\n",
      "dense_27 (Dense)             (None, 3)                 27        \n",
      "=================================================================\n",
      "Total params: 217\n",
      "Trainable params: 217\n",
      "Non-trainable params: 0\n",
      "_________________________________________________________________\n"
     ]
    }
   ],
   "source": [
    "model.summary()"
   ]
  },
  {
   "cell_type": "code",
   "execution_count": 138,
   "metadata": {},
   "outputs": [
    {
     "data": {
      "text/plain": [
       "{'name': 'sequential_3',\n",
       " 'layers': [{'class_name': 'InputLayer',\n",
       "   'config': {'batch_input_shape': (None, 13),\n",
       "    'dtype': 'float32',\n",
       "    'sparse': False,\n",
       "    'ragged': False,\n",
       "    'name': 'dense_13_input'}},\n",
       "  {'class_name': 'Dense',\n",
       "   'config': {'name': 'dense_13',\n",
       "    'trainable': True,\n",
       "    'batch_input_shape': (None, 13),\n",
       "    'dtype': 'float32',\n",
       "    'units': 5,\n",
       "    'activation': 'relu',\n",
       "    'use_bias': True,\n",
       "    'kernel_initializer': {'class_name': 'HeNormal', 'config': {'seed': None}},\n",
       "    'bias_initializer': {'class_name': 'Zeros', 'config': {}},\n",
       "    'kernel_regularizer': None,\n",
       "    'bias_regularizer': None,\n",
       "    'activity_regularizer': None,\n",
       "    'kernel_constraint': None,\n",
       "    'bias_constraint': None}},\n",
       "  {'class_name': 'Dense',\n",
       "   'config': {'name': 'dense_14',\n",
       "    'trainable': True,\n",
       "    'dtype': 'float32',\n",
       "    'units': 8,\n",
       "    'activation': 'relu',\n",
       "    'use_bias': True,\n",
       "    'kernel_initializer': {'class_name': 'HeNormal', 'config': {'seed': None}},\n",
       "    'bias_initializer': {'class_name': 'Zeros', 'config': {}},\n",
       "    'kernel_regularizer': None,\n",
       "    'bias_regularizer': None,\n",
       "    'activity_regularizer': None,\n",
       "    'kernel_constraint': None,\n",
       "    'bias_constraint': None}},\n",
       "  {'class_name': 'Dense',\n",
       "   'config': {'name': 'dense_15',\n",
       "    'trainable': True,\n",
       "    'dtype': 'float32',\n",
       "    'units': 8,\n",
       "    'activation': 'relu',\n",
       "    'use_bias': True,\n",
       "    'kernel_initializer': {'class_name': 'HeNormal', 'config': {'seed': None}},\n",
       "    'bias_initializer': {'class_name': 'Zeros', 'config': {}},\n",
       "    'kernel_regularizer': None,\n",
       "    'bias_regularizer': None,\n",
       "    'activity_regularizer': None,\n",
       "    'kernel_constraint': None,\n",
       "    'bias_constraint': None}},\n",
       "  {'class_name': 'Dense',\n",
       "   'config': {'name': 'dense_16',\n",
       "    'trainable': True,\n",
       "    'dtype': 'float32',\n",
       "    'units': 3,\n",
       "    'activation': 'softmax',\n",
       "    'use_bias': True,\n",
       "    'kernel_initializer': {'class_name': 'GlorotUniform',\n",
       "     'config': {'seed': None}},\n",
       "    'bias_initializer': {'class_name': 'Zeros', 'config': {}},\n",
       "    'kernel_regularizer': None,\n",
       "    'bias_regularizer': None,\n",
       "    'activity_regularizer': None,\n",
       "    'kernel_constraint': None,\n",
       "    'bias_constraint': None}}]}"
      ]
     },
     "execution_count": 138,
     "metadata": {},
     "output_type": "execute_result"
    }
   ],
   "source": [
    "model.get_config()"
   ]
  },
  {
   "cell_type": "code",
   "execution_count": 180,
   "metadata": {},
   "outputs": [],
   "source": [
    "from keras.optimizers import RMSprop"
   ]
  },
  {
   "cell_type": "code",
   "execution_count": 181,
   "metadata": {},
   "outputs": [],
   "source": [
    "model.compile(optimizer=RMSprop(learning_rate=0.001),loss='categorical_crossentropy',metrics=['accuracy'])"
   ]
  },
  {
   "cell_type": "code",
   "execution_count": 182,
   "metadata": {},
   "outputs": [
    {
     "name": "stdout",
     "output_type": "stream",
     "text": [
      "Epoch 1/150\n",
      "6/6 [==============================] - 5s 7ms/step - loss: 1.5750 - accuracy: 0.3852\n",
      "Epoch 2/150\n",
      "6/6 [==============================] - 0s 5ms/step - loss: 1.4836 - accuracy: 0.3814\n",
      "Epoch 3/150\n",
      "6/6 [==============================] - 0s 7ms/step - loss: 1.4063 - accuracy: 0.3980\n",
      "Epoch 4/150\n",
      "6/6 [==============================] - 0s 6ms/step - loss: 1.4241 - accuracy: 0.3737\n",
      "Epoch 5/150\n",
      "6/6 [==============================] - 0s 6ms/step - loss: 1.2598 - accuracy: 0.4425\n",
      "Epoch 6/150\n",
      "6/6 [==============================] - 0s 5ms/step - loss: 1.1929 - accuracy: 0.4393\n",
      "Epoch 7/150\n",
      "6/6 [==============================] - 0s 6ms/step - loss: 1.2117 - accuracy: 0.4028\n",
      "Epoch 8/150\n",
      "6/6 [==============================] - 0s 5ms/step - loss: 1.1595 - accuracy: 0.3830\n",
      "Epoch 9/150\n",
      "6/6 [==============================] - 0s 6ms/step - loss: 1.1570 - accuracy: 0.3767\n",
      "Epoch 10/150\n",
      "6/6 [==============================] - 0s 7ms/step - loss: 1.1279 - accuracy: 0.3861\n",
      "Epoch 11/150\n",
      "6/6 [==============================] - 0s 6ms/step - loss: 1.0279 - accuracy: 0.4168\n",
      "Epoch 12/150\n",
      "6/6 [==============================] - 0s 7ms/step - loss: 1.0206 - accuracy: 0.3905\n",
      "Epoch 13/150\n",
      "6/6 [==============================] - 0s 5ms/step - loss: 1.0167 - accuracy: 0.3839\n",
      "Epoch 14/150\n",
      "6/6 [==============================] - 0s 6ms/step - loss: 0.9964 - accuracy: 0.4138\n",
      "Epoch 15/150\n",
      "6/6 [==============================] - 0s 6ms/step - loss: 0.9725 - accuracy: 0.3766\n",
      "Epoch 16/150\n",
      "6/6 [==============================] - 0s 6ms/step - loss: 0.9144 - accuracy: 0.4114\n",
      "Epoch 17/150\n",
      "6/6 [==============================] - 0s 5ms/step - loss: 0.8928 - accuracy: 0.4181\n",
      "Epoch 18/150\n",
      "6/6 [==============================] - 0s 6ms/step - loss: 0.8774 - accuracy: 0.4021\n",
      "Epoch 19/150\n",
      "6/6 [==============================] - 0s 6ms/step - loss: 0.9019 - accuracy: 0.4413\n",
      "Epoch 20/150\n",
      "6/6 [==============================] - 0s 5ms/step - loss: 0.8441 - accuracy: 0.6749\n",
      "Epoch 21/150\n",
      "6/6 [==============================] - 0s 6ms/step - loss: 0.7948 - accuracy: 0.6617\n",
      "Epoch 22/150\n",
      "6/6 [==============================] - 0s 6ms/step - loss: 0.8036 - accuracy: 0.6859\n",
      "Epoch 23/150\n",
      "6/6 [==============================] - 0s 5ms/step - loss: 0.7733 - accuracy: 0.6897\n",
      "Epoch 24/150\n",
      "6/6 [==============================] - 0s 5ms/step - loss: 0.7510 - accuracy: 0.6870\n",
      "Epoch 25/150\n",
      "6/6 [==============================] - 0s 6ms/step - loss: 0.7564 - accuracy: 0.6822\n",
      "Epoch 26/150\n",
      "6/6 [==============================] - 0s 5ms/step - loss: 0.7577 - accuracy: 0.6707\n",
      "Epoch 27/150\n",
      "6/6 [==============================] - 0s 7ms/step - loss: 0.7363 - accuracy: 0.6872\n",
      "Epoch 28/150\n",
      "6/6 [==============================] - 0s 6ms/step - loss: 0.7029 - accuracy: 0.6653\n",
      "Epoch 29/150\n",
      "6/6 [==============================] - ETA: 0s - loss: 0.7026 - accuracy: 0.75 - 0s 6ms/step - loss: 0.7202 - accuracy: 0.6762\n",
      "Epoch 30/150\n",
      "6/6 [==============================] - 0s 5ms/step - loss: 0.6732 - accuracy: 0.6823\n",
      "Epoch 31/150\n",
      "6/6 [==============================] - 0s 5ms/step - loss: 0.6845 - accuracy: 0.6699\n",
      "Epoch 32/150\n",
      "6/6 [==============================] - 0s 5ms/step - loss: 0.6472 - accuracy: 0.7130\n",
      "Epoch 33/150\n",
      "6/6 [==============================] - 0s 5ms/step - loss: 0.6181 - accuracy: 0.8283\n",
      "Epoch 34/150\n",
      "6/6 [==============================] - 0s 5ms/step - loss: 0.6304 - accuracy: 0.8598\n",
      "Epoch 35/150\n",
      "6/6 [==============================] - 0s 5ms/step - loss: 0.5982 - accuracy: 0.8891\n",
      "Epoch 36/150\n",
      "6/6 [==============================] - 0s 5ms/step - loss: 0.5691 - accuracy: 0.9074\n",
      "Epoch 37/150\n",
      "6/6 [==============================] - 0s 5ms/step - loss: 0.6098 - accuracy: 0.8411\n",
      "Epoch 38/150\n",
      "6/6 [==============================] - 0s 6ms/step - loss: 0.5487 - accuracy: 0.8819\n",
      "Epoch 39/150\n",
      "6/6 [==============================] - 0s 5ms/step - loss: 0.5716 - accuracy: 0.8813\n",
      "Epoch 40/150\n",
      "6/6 [==============================] - 0s 5ms/step - loss: 0.5160 - accuracy: 0.9202\n",
      "Epoch 41/150\n",
      "6/6 [==============================] - 0s 6ms/step - loss: 0.5063 - accuracy: 0.9170\n",
      "Epoch 42/150\n",
      "6/6 [==============================] - 0s 6ms/step - loss: 0.4904 - accuracy: 0.9156\n",
      "Epoch 43/150\n",
      "6/6 [==============================] - 0s 5ms/step - loss: 0.4767 - accuracy: 0.9068\n",
      "Epoch 44/150\n",
      "6/6 [==============================] - 0s 6ms/step - loss: 0.4722 - accuracy: 0.9194\n",
      "Epoch 45/150\n",
      "6/6 [==============================] - 0s 5ms/step - loss: 0.4529 - accuracy: 0.9267\n",
      "Epoch 46/150\n",
      "6/6 [==============================] - 0s 6ms/step - loss: 0.4471 - accuracy: 0.9046\n",
      "Epoch 47/150\n",
      "6/6 [==============================] - 0s 5ms/step - loss: 0.4145 - accuracy: 0.9337\n",
      "Epoch 48/150\n",
      "6/6 [==============================] - 0s 6ms/step - loss: 0.4212 - accuracy: 0.9410\n",
      "Epoch 49/150\n",
      "6/6 [==============================] - 0s 6ms/step - loss: 0.3817 - accuracy: 0.9400\n",
      "Epoch 50/150\n",
      "6/6 [==============================] - 0s 5ms/step - loss: 0.3895 - accuracy: 0.9218\n",
      "Epoch 51/150\n",
      "6/6 [==============================] - 0s 10ms/step - loss: 0.3964 - accuracy: 0.9054\n",
      "Epoch 52/150\n",
      "6/6 [==============================] - 0s 6ms/step - loss: 0.3768 - accuracy: 0.9383\n",
      "Epoch 53/150\n",
      "6/6 [==============================] - 0s 6ms/step - loss: 0.3705 - accuracy: 0.9234\n",
      "Epoch 54/150\n",
      "6/6 [==============================] - 0s 6ms/step - loss: 0.3519 - accuracy: 0.9133\n",
      "Epoch 55/150\n",
      "6/6 [==============================] - 0s 6ms/step - loss: 0.3546 - accuracy: 0.9323\n",
      "Epoch 56/150\n",
      "6/6 [==============================] - 0s 5ms/step - loss: 0.3757 - accuracy: 0.9126\n",
      "Epoch 57/150\n",
      "6/6 [==============================] - 0s 7ms/step - loss: 0.3464 - accuracy: 0.9255\n",
      "Epoch 58/150\n",
      "6/6 [==============================] - 0s 6ms/step - loss: 0.3503 - accuracy: 0.9400\n",
      "Epoch 59/150\n",
      "6/6 [==============================] - 0s 7ms/step - loss: 0.3230 - accuracy: 0.9289\n",
      "Epoch 60/150\n",
      "6/6 [==============================] - 0s 6ms/step - loss: 0.3796 - accuracy: 0.8775\n",
      "Epoch 61/150\n",
      "6/6 [==============================] - 0s 6ms/step - loss: 0.3066 - accuracy: 0.9349\n",
      "Epoch 62/150\n",
      "6/6 [==============================] - 0s 5ms/step - loss: 0.2711 - accuracy: 0.9515\n",
      "Epoch 63/150\n",
      "6/6 [==============================] - ETA: 0s - loss: 0.2619 - accuracy: 0.96 - 0s 6ms/step - loss: 0.2935 - accuracy: 0.9445\n",
      "Epoch 64/150\n",
      "6/6 [==============================] - 0s 8ms/step - loss: 0.3204 - accuracy: 0.9113\n",
      "Epoch 65/150\n",
      "6/6 [==============================] - 0s 7ms/step - loss: 0.3040 - accuracy: 0.9279\n",
      "Epoch 66/150\n",
      "6/6 [==============================] - 0s 7ms/step - loss: 0.3219 - accuracy: 0.9094\n",
      "Epoch 67/150\n",
      "6/6 [==============================] - 0s 6ms/step - loss: 0.3098 - accuracy: 0.9171\n",
      "Epoch 68/150\n",
      "6/6 [==============================] - 0s 8ms/step - loss: 0.2634 - accuracy: 0.9224\n",
      "Epoch 69/150\n",
      "6/6 [==============================] - 0s 7ms/step - loss: 0.2678 - accuracy: 0.9416\n",
      "Epoch 70/150\n",
      "6/6 [==============================] - 0s 7ms/step - loss: 0.2189 - accuracy: 0.9574\n",
      "Epoch 71/150\n",
      "6/6 [==============================] - 0s 6ms/step - loss: 0.2276 - accuracy: 0.9595\n",
      "Epoch 72/150\n",
      "6/6 [==============================] - 0s 8ms/step - loss: 0.3171 - accuracy: 0.9091\n",
      "Epoch 73/150\n",
      "6/6 [==============================] - 0s 5ms/step - loss: 0.2204 - accuracy: 0.9466\n",
      "Epoch 74/150\n",
      "6/6 [==============================] - 0s 9ms/step - loss: 0.2156 - accuracy: 0.9432\n",
      "Epoch 75/150\n",
      "6/6 [==============================] - 0s 8ms/step - loss: 0.3339 - accuracy: 0.8944\n",
      "Epoch 76/150\n",
      "6/6 [==============================] - 0s 6ms/step - loss: 0.2269 - accuracy: 0.9286\n",
      "Epoch 77/150\n",
      "6/6 [==============================] - 0s 8ms/step - loss: 0.2335 - accuracy: 0.9389\n",
      "Epoch 78/150\n",
      "6/6 [==============================] - 0s 6ms/step - loss: 0.2114 - accuracy: 0.9544\n",
      "Epoch 79/150\n",
      "6/6 [==============================] - 0s 8ms/step - loss: 0.2427 - accuracy: 0.9256\n",
      "Epoch 80/150\n",
      "6/6 [==============================] - 0s 7ms/step - loss: 0.1949 - accuracy: 0.9544\n",
      "Epoch 81/150\n",
      "6/6 [==============================] - 0s 6ms/step - loss: 0.1967 - accuracy: 0.9448\n",
      "Epoch 82/150\n",
      "6/6 [==============================] - 0s 5ms/step - loss: 0.3191 - accuracy: 0.9203\n",
      "Epoch 83/150\n"
     ]
    },
    {
     "name": "stdout",
     "output_type": "stream",
     "text": [
      "6/6 [==============================] - 0s 5ms/step - loss: 0.2316 - accuracy: 0.9135\n",
      "Epoch 84/150\n",
      "6/6 [==============================] - 0s 6ms/step - loss: 0.1986 - accuracy: 0.9383\n",
      "Epoch 85/150\n",
      "6/6 [==============================] - 0s 5ms/step - loss: 0.1956 - accuracy: 0.9133\n",
      "Epoch 86/150\n",
      "6/6 [==============================] - 0s 4ms/step - loss: 0.2422 - accuracy: 0.9192\n",
      "Epoch 87/150\n",
      "6/6 [==============================] - 0s 5ms/step - loss: 0.1775 - accuracy: 0.9451\n",
      "Epoch 88/150\n",
      "6/6 [==============================] - ETA: 0s - loss: 0.2623 - accuracy: 0.90 - 0s 5ms/step - loss: 0.2350 - accuracy: 0.9224\n",
      "Epoch 89/150\n",
      "6/6 [==============================] - 0s 6ms/step - loss: 0.1940 - accuracy: 0.9317\n",
      "Epoch 90/150\n",
      "6/6 [==============================] - 0s 6ms/step - loss: 0.1526 - accuracy: 0.9517\n",
      "Epoch 91/150\n",
      "6/6 [==============================] - 0s 6ms/step - loss: 0.1961 - accuracy: 0.9374\n",
      "Epoch 92/150\n",
      "6/6 [==============================] - 0s 6ms/step - loss: 0.2185 - accuracy: 0.9025\n",
      "Epoch 93/150\n",
      "6/6 [==============================] - 0s 6ms/step - loss: 0.1673 - accuracy: 0.9496\n",
      "Epoch 94/150\n",
      "6/6 [==============================] - 0s 6ms/step - loss: 0.1813 - accuracy: 0.9240\n",
      "Epoch 95/150\n",
      "6/6 [==============================] - 0s 7ms/step - loss: 0.1940 - accuracy: 0.9202\n",
      "Epoch 96/150\n",
      "6/6 [==============================] - 0s 5ms/step - loss: 0.2138 - accuracy: 0.9416\n",
      "Epoch 97/150\n",
      "6/6 [==============================] - 0s 6ms/step - loss: 0.2148 - accuracy: 0.9185\n",
      "Epoch 98/150\n",
      "6/6 [==============================] - 0s 6ms/step - loss: 0.1938 - accuracy: 0.9442\n",
      "Epoch 99/150\n",
      "6/6 [==============================] - 0s 7ms/step - loss: 0.1563 - accuracy: 0.9520\n",
      "Epoch 100/150\n",
      "6/6 [==============================] - 0s 7ms/step - loss: 0.2275 - accuracy: 0.8861\n",
      "Epoch 101/150\n",
      "6/6 [==============================] - 0s 8ms/step - loss: 0.3103 - accuracy: 0.8728\n",
      "Epoch 102/150\n",
      "6/6 [==============================] - 0s 13ms/step - loss: 0.1426 - accuracy: 0.9549\n",
      "Epoch 103/150\n",
      "6/6 [==============================] - 0s 7ms/step - loss: 0.1335 - accuracy: 0.9617\n",
      "Epoch 104/150\n",
      "6/6 [==============================] - 0s 16ms/step - loss: 0.1449 - accuracy: 0.9515\n",
      "Epoch 105/150\n",
      "6/6 [==============================] - 0s 16ms/step - loss: 0.1371 - accuracy: 0.9517\n",
      "Epoch 106/150\n",
      "6/6 [==============================] - 0s 11ms/step - loss: 0.2895 - accuracy: 0.8883\n",
      "Epoch 107/150\n",
      "6/6 [==============================] - 0s 20ms/step - loss: 0.3262 - accuracy: 0.9043\n",
      "Epoch 108/150\n",
      "6/6 [==============================] - 0s 7ms/step - loss: 0.1507 - accuracy: 0.9558\n",
      "Epoch 109/150\n",
      "6/6 [==============================] - 0s 7ms/step - loss: 0.2035 - accuracy: 0.9059\n",
      "Epoch 110/150\n",
      "6/6 [==============================] - 0s 8ms/step - loss: 0.1315 - accuracy: 0.9500\n",
      "Epoch 111/150\n",
      "6/6 [==============================] - 0s 7ms/step - loss: 0.1850 - accuracy: 0.9268\n",
      "Epoch 112/150\n",
      "6/6 [==============================] - 0s 8ms/step - loss: 0.1990 - accuracy: 0.9202\n",
      "Epoch 113/150\n",
      "6/6 [==============================] - 0s 9ms/step - loss: 0.1516 - accuracy: 0.9353\n",
      "Epoch 114/150\n",
      "6/6 [==============================] - 0s 9ms/step - loss: 0.1570 - accuracy: 0.9414\n",
      "Epoch 115/150\n",
      "6/6 [==============================] - 0s 9ms/step - loss: 0.1575 - accuracy: 0.9273\n",
      "Epoch 116/150\n",
      "6/6 [==============================] - 0s 8ms/step - loss: 0.1481 - accuracy: 0.9514\n",
      "Epoch 117/150\n",
      "6/6 [==============================] - 0s 12ms/step - loss: 0.2315 - accuracy: 0.9101\n",
      "Epoch 118/150\n",
      "6/6 [==============================] - 0s 10ms/step - loss: 0.2077 - accuracy: 0.9275\n",
      "Epoch 119/150\n",
      "6/6 [==============================] - 0s 9ms/step - loss: 0.1227 - accuracy: 0.9561\n",
      "Epoch 120/150\n",
      "6/6 [==============================] - 0s 6ms/step - loss: 0.1414 - accuracy: 0.9587\n",
      "Epoch 121/150\n",
      "6/6 [==============================] - 0s 5ms/step - loss: 0.2269 - accuracy: 0.8993\n",
      "Epoch 122/150\n",
      "6/6 [==============================] - 0s 6ms/step - loss: 0.1710 - accuracy: 0.9221\n",
      "Epoch 123/150\n",
      "6/6 [==============================] - 0s 4ms/step - loss: 0.1388 - accuracy: 0.9492\n",
      "Epoch 124/150\n",
      "6/6 [==============================] - 0s 4ms/step - loss: 0.1394 - accuracy: 0.9535\n",
      "Epoch 125/150\n",
      "6/6 [==============================] - 0s 6ms/step - loss: 0.2561 - accuracy: 0.9176\n",
      "Epoch 126/150\n",
      "6/6 [==============================] - 0s 7ms/step - loss: 0.1601 - accuracy: 0.9402\n",
      "Epoch 127/150\n",
      "6/6 [==============================] - 0s 6ms/step - loss: 0.1634 - accuracy: 0.9321\n",
      "Epoch 128/150\n",
      "6/6 [==============================] - 0s 7ms/step - loss: 0.1320 - accuracy: 0.9578\n",
      "Epoch 129/150\n",
      "6/6 [==============================] - 0s 6ms/step - loss: 0.1501 - accuracy: 0.9323\n",
      "Epoch 130/150\n",
      "6/6 [==============================] - 0s 7ms/step - loss: 0.1304 - accuracy: 0.9480\n",
      "Epoch 131/150\n",
      "6/6 [==============================] - 0s 6ms/step - loss: 0.1334 - accuracy: 0.9434\n",
      "Epoch 132/150\n",
      "6/6 [==============================] - 0s 6ms/step - loss: 0.1798 - accuracy: 0.9373\n",
      "Epoch 133/150\n",
      "6/6 [==============================] - 0s 6ms/step - loss: 0.1354 - accuracy: 0.9588\n",
      "Epoch 134/150\n",
      "6/6 [==============================] - 0s 6ms/step - loss: 0.1026 - accuracy: 0.9614\n",
      "Epoch 135/150\n",
      "6/6 [==============================] - 0s 7ms/step - loss: 0.1540 - accuracy: 0.9470\n",
      "Epoch 136/150\n",
      "6/6 [==============================] - 0s 6ms/step - loss: 0.1350 - accuracy: 0.9509\n",
      "Epoch 137/150\n",
      "6/6 [==============================] - 0s 6ms/step - loss: 0.1052 - accuracy: 0.9659\n",
      "Epoch 138/150\n",
      "6/6 [==============================] - 0s 4ms/step - loss: 0.3055 - accuracy: 0.9136\n",
      "Epoch 139/150\n",
      "6/6 [==============================] - 0s 6ms/step - loss: 0.1245 - accuracy: 0.9513\n",
      "Epoch 140/150\n",
      "6/6 [==============================] - 0s 7ms/step - loss: 0.1504 - accuracy: 0.9458\n",
      "Epoch 141/150\n",
      "6/6 [==============================] - 0s 7ms/step - loss: 0.1760 - accuracy: 0.9373\n",
      "Epoch 142/150\n",
      "6/6 [==============================] - 0s 5ms/step - loss: 0.1323 - accuracy: 0.9334\n",
      "Epoch 143/150\n",
      "6/6 [==============================] - 0s 6ms/step - loss: 0.1223 - accuracy: 0.9479\n",
      "Epoch 144/150\n",
      "6/6 [==============================] - 0s 5ms/step - loss: 0.1731 - accuracy: 0.9392\n",
      "Epoch 145/150\n",
      "6/6 [==============================] - 0s 7ms/step - loss: 0.0953 - accuracy: 0.9600\n",
      "Epoch 146/150\n",
      "6/6 [==============================] - ETA: 0s - loss: 0.3559 - accuracy: 0.90 - 0s 7ms/step - loss: 0.2075 - accuracy: 0.9287\n",
      "Epoch 147/150\n",
      "6/6 [==============================] - 0s 6ms/step - loss: 0.1274 - accuracy: 0.9523\n",
      "Epoch 148/150\n",
      "6/6 [==============================] - 0s 6ms/step - loss: 0.3373 - accuracy: 0.9030\n",
      "Epoch 149/150\n",
      "6/6 [==============================] - 0s 6ms/step - loss: 0.1234 - accuracy: 0.9439\n",
      "Epoch 150/150\n",
      "6/6 [==============================] - 0s 4ms/step - loss: 0.1806 - accuracy: 0.9378\n"
     ]
    },
    {
     "data": {
      "text/plain": [
       "<keras.callbacks.History at 0x18bcaa26c10>"
      ]
     },
     "execution_count": 182,
     "metadata": {},
     "output_type": "execute_result"
    }
   ],
   "source": [
    "model.fit(x,y_cat,epochs=150)"
   ]
  },
  {
   "cell_type": "code",
   "execution_count": 183,
   "metadata": {},
   "outputs": [],
   "source": [
    "l=model.history.history['loss']"
   ]
  },
  {
   "cell_type": "code",
   "execution_count": 184,
   "metadata": {},
   "outputs": [],
   "source": [
    "l1=pd.DataFrame(l)"
   ]
  },
  {
   "cell_type": "code",
   "execution_count": 185,
   "metadata": {},
   "outputs": [
    {
     "data": {
      "text/plain": [
       "<matplotlib.axes._subplots.AxesSubplot at 0x18bcbfc4ca0>"
      ]
     },
     "execution_count": 185,
     "metadata": {},
     "output_type": "execute_result"
    },
    {
     "data": {
      "image/png": "[encoded data removed]",
      "text/plain": [
       "<Figure size 432x288 with 1 Axes>"
      ]
     },
     "metadata": {
      "needs_background": "light"
     },
     "output_type": "display_data"
    }
   ],
   "source": [
    "l1.plot()"
   ]
  },
  {
   "cell_type": "code",
   "execution_count": 186,
   "metadata": {},
   "outputs": [],
   "source": [
    "a=model.history.history['accuracy']"
   ]
  },
  {
   "cell_type": "code",
   "execution_count": 187,
   "metadata": {},
   "outputs": [],
   "source": [
    "a1=pd.DataFrame(a)"
   ]
  },
  {
   "cell_type": "code",
   "execution_count": 188,
   "metadata": {},
   "outputs": [
    {
     "data": {
      "text/plain": [
       "<matplotlib.axes._subplots.AxesSubplot at 0x18bcd005d90>"
      ]
     },
     "execution_count": 188,
     "metadata": {},
     "output_type": "execute_result"
    },
    {
     "data": {
      "image/png": "[encoded data removed]",
      "text/plain": [
       "<Figure size 432x288 with 1 Axes>"
      ]
     },
     "metadata": {
      "needs_background": "light"
     },
     "output_type": "display_data"
    }
   ],
   "source": [
    "a1.plot()"
   ]
  },
  {
   "cell_type": "code",
   "execution_count": 195,
   "metadata": {},
   "outputs": [
    {
     "data": {
      "text/plain": [
       "array([1.316e+01, 2.360e+00, 2.670e+00, 1.860e+01, 1.010e+02, 2.800e+00,\n",
       "       3.240e+00, 3.000e-01, 2.810e+00, 5.680e+00, 1.030e+00, 3.170e+00,\n",
       "       1.185e+03])"
      ]
     },
     "execution_count": 195,
     "metadata": {},
     "output_type": "execute_result"
    }
   ],
   "source": [
    "x.iloc[2].values"
   ]
  },
  {
   "cell_type": "code",
   "execution_count": 196,
   "metadata": {},
   "outputs": [
    {
     "data": {
      "text/plain": [
       "array([[9.9541014e-01, 4.5709172e-03, 1.8940349e-05]], dtype=float32)"
      ]
     },
     "execution_count": 196,
     "metadata": {},
     "output_type": "execute_result"
    }
   ],
   "source": [
    "# to check it is class 1 or not\n",
    "model.predict([[1.316e+01, 2.360e+00, 2.670e+00, 1.860e+01, 1.010e+02, 2.800e+00,\n",
    "       3.240e+00, 3.000e-01, 2.810e+00, 5.680e+00, 1.030e+00, 3.170e+00,\n",
    "       1.185e+03]])"
   ]
  },
  {
   "cell_type": "code",
   "execution_count": 191,
   "metadata": {},
   "outputs": [
    {
     "data": {
      "text/plain": [
       "array([1.237e+01, 1.070e+00, 2.100e+00, 1.850e+01, 8.800e+01, 3.520e+00,\n",
       "       3.750e+00, 2.400e-01, 1.950e+00, 4.500e+00, 1.040e+00, 2.770e+00,\n",
       "       6.600e+02])"
      ]
     },
     "execution_count": 191,
     "metadata": {},
     "output_type": "execute_result"
    }
   ],
   "source": [
    "x.iloc[98].values"
   ]
  },
  {
   "cell_type": "code",
   "execution_count": 192,
   "metadata": {},
   "outputs": [
    {
     "data": {
      "text/plain": [
       "array([[3.6952730e-02, 9.6248794e-01, 5.5933028e-04]], dtype=float32)"
      ]
     },
     "execution_count": 192,
     "metadata": {},
     "output_type": "execute_result"
    }
   ],
   "source": [
    "# to check it is class 2 or not\n",
    "model.predict([[1.237e+01, 1.070e+00, 2.100e+00, 1.850e+01, 8.800e+01, 3.520e+00,\n",
    "       3.750e+00, 2.400e-01, 1.950e+00, 4.500e+00, 1.040e+00, 2.770e+00,\n",
    "       6.600e+02]])"
   ]
  },
  {
   "cell_type": "code",
   "execution_count": 193,
   "metadata": {},
   "outputs": [
    {
     "data": {
      "text/plain": [
       "array([1.35e+01, 3.12e+00, 2.62e+00, 2.40e+01, 1.23e+02, 1.40e+00,\n",
       "       1.57e+00, 2.20e-01, 1.25e+00, 8.60e+00, 5.90e-01, 1.30e+00,\n",
       "       5.00e+02])"
      ]
     },
     "execution_count": 193,
     "metadata": {},
     "output_type": "execute_result"
    }
   ],
   "source": [
    "x.iloc[150].values"
   ]
  },
  {
   "cell_type": "code",
   "execution_count": 194,
   "metadata": {},
   "outputs": [
    {
     "data": {
      "text/plain": [
       "array([[0.00387756, 0.02175548, 0.97436696]], dtype=float32)"
      ]
     },
     "execution_count": 194,
     "metadata": {},
     "output_type": "execute_result"
    }
   ],
   "source": [
    "# to check it is class 3 or not\n",
    "model.predict([[1.35e+01, 3.12e+00, 2.62e+00, 2.40e+01, 1.23e+02, 1.40e+00,\n",
    "       1.57e+00, 2.20e-01, 1.25e+00, 8.60e+00, 5.90e-01, 1.30e+00,\n",
    "       5.00e+02]])"
   ]
  },
  {
   "cell_type": "markdown",
   "metadata": {},
   "source": [
    "# Completed"
   ]
  }
 ],
 "metadata": {
  "kernelspec": {
   "display_name": "Python 3",
   "language": "python",
   "name": "python3"
  },
  "language_info": {
   "codemirror_mode": {
    "name": "ipython",
    "version": 3
   },
   "file_extension": ".py",
   "mimetype": "text/x-python",
   "name": "python",
   "nbconvert_exporter": "python",
   "pygments_lexer": "ipython3",
   "version": "3.8.3"
  }
 },
 "nbformat": 4,
 "nbformat_minor": 4
}
