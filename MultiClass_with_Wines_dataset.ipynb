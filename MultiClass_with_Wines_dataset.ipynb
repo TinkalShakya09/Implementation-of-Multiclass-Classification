{
 "cells": [
  {
   "cell_type": "markdown",
   "metadata": {},
   "source": [
    "![alt text](data:image/svg+xml;base64,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 \"OY Analytica\")\n",
    "\n",
    "# OY Analytica - An Open AI Community \n",
    "[github.com/oyanalytica](https://github.com/oyanalytica) \n",
    "<a href='https://twitter.com/oyanalytica'> <img alt=\"\" src=\"data:image/svg+xml;base64,PD94bWwgdmVyc2lvbj0iMS4wIiBlbmNvZGluZz0idXRmLTgiPz4KPCEtLSBHZW5lcmF0b3I6IEFkb2JlIElsbHVzdHJhdG9yIDI0LjIuMCwgU1ZHIEV4cG9ydCBQbHVnLUluIC4gU1ZHIFZlcnNpb246IDYuMDAgQnVpbGQgMCkgIC0tPgo8c3ZnIHZlcnNpb249IjEuMSIgaWQ9IkxvZ28iIHhtbG5zPSJodHRwOi8vd3d3LnczLm9yZy8yMDAwL3N2ZyIgeG1sbnM6eGxpbms9Imh0dHA6Ly93d3cudzMub3JnLzE5OTkveGxpbmsiIHg9IjBweCIgeT0iMHB4IgoJIHZpZXdCb3g9IjAgMCAyNDggMjA0IiBzdHlsZT0iZW5hYmxlLWJhY2tncm91bmQ6bmV3IDAgMCAyNDggMjA0OyIgeG1sOnNwYWNlPSJwcmVzZXJ2ZSI+CjxnIGlkPSJMb2dvXzFfIj4KCTxwYXRoIGlkPSJ3aGl0ZV9iYWNrZ3JvdW5kIiBkPSJNMjIxLjk1LDUxLjI5YzAuMTUsMi4xNywwLjE1LDQuMzQsMC4xNSw2LjUzYzAsNjYuNzMtNTAuOCwxNDMuNjktMTQzLjY5LDE0My42OXYtMC4wNAoJCUM1MC45NywyMDEuNTEsMjQuMSwxOTMuNjUsMSwxNzguODNjMy45OSwwLjQ4LDgsMC43MiwxMi4wMiwwLjczYzIyLjc0LDAuMDIsNDQuODMtNy42MSw2Mi43Mi0yMS42NgoJCWMtMjEuNjEtMC40MS00MC41Ni0xNC41LTQ3LjE4LTM1LjA3YzcuNTcsMS40NiwxNS4zNywxLjE2LDIyLjgtMC44N0MyNy44LDExNy4yLDEwLjg1LDk2LjUsMTAuODUsNzIuNDZjMC0wLjIyLDAtMC40MywwLTAuNjQKCQljNy4wMiwzLjkxLDE0Ljg4LDYuMDgsMjIuOTIsNi4zMkMxMS41OCw2My4zMSw0Ljc0LDMzLjc5LDE4LjE0LDEwLjcxYzI1LjY0LDMxLjU1LDYzLjQ3LDUwLjczLDEwNC4wOCw1Mi43NgoJCWMtNC4wNy0xNy41NCwxLjQ5LTM1LjkyLDE0LjYxLTQ4LjI1YzIwLjM0LTE5LjEyLDUyLjMzLTE4LjE0LDcxLjQ1LDIuMTljMTEuMzEtMi4yMywyMi4xNS02LjM4LDMyLjA3LTEyLjI2CgkJYy0zLjc3LDExLjY5LTExLjY2LDIxLjYyLTIyLjIsMjcuOTNjMTAuMDEtMS4xOCwxOS43OS0zLjg2LDI5LTcuOTVDMjQwLjM3LDM1LjI5LDIzMS44Myw0NC4xNCwyMjEuOTUsNTEuMjl6Ii8+CjwvZz4KPC9zdmc+Cg==\" width=\"30px\"/></a>"
   ]
  },
  {
   "cell_type": "code",
   "execution_count": 227,
   "metadata": {},
   "outputs": [],
   "source": [
    "import pandas as pd"
   ]
  },
  {
   "cell_type": "markdown",
   "metadata": {},
   "source": [
    "# read the data"
   ]
  },
  {
   "cell_type": "code",
   "execution_count": 228,
   "metadata": {},
   "outputs": [],
   "source": [
    "data= pd.read_csv(\"Wines.csv\")"
   ]
  },
  {
   "cell_type": "code",
   "execution_count": 229,
   "metadata": {},
   "outputs": [
    {
     "data": {
      "text/html": [
       "<div>\n",
       "<style scoped>\n",
       "    .dataframe tbody tr th:only-of-type {\n",
       "        vertical-align: middle;\n",
       "    }\n",
       "\n",
       "    .dataframe tbody tr th {\n",
       "        vertical-align: top;\n",
       "    }\n",
       "\n",
       "    .dataframe thead th {\n",
       "        text-align: right;\n",
       "    }\n",
       "</style>\n",
       "<table border=\"1\" class=\"dataframe\">\n",
       "  <thead>\n",
       "    <tr style=\"text-align: right;\">\n",
       "      <th></th>\n",
       "      <th>Class</th>\n",
       "      <th>Alcohol</th>\n",
       "      <th>Malic_acid</th>\n",
       "      <th>Ash</th>\n",
       "      <th>Alcalinity_of_ash</th>\n",
       "      <th>Magnesium</th>\n",
       "      <th>Total_phenols</th>\n",
       "      <th>Flavanoids</th>\n",
       "      <th>Nonflavanoid_phenols</th>\n",
       "      <th>Proanthocyanins</th>\n",
       "      <th>Color_intensity</th>\n",
       "      <th>Hue</th>\n",
       "      <th>OD</th>\n",
       "      <th>Proline</th>\n",
       "    </tr>\n",
       "  </thead>\n",
       "  <tbody>\n",
       "    <tr>\n",
       "      <th>0</th>\n",
       "      <td>1</td>\n",
       "      <td>14.23</td>\n",
       "      <td>1.71</td>\n",
       "      <td>2.43</td>\n",
       "      <td>15.6</td>\n",
       "      <td>127</td>\n",
       "      <td>2.80</td>\n",
       "      <td>3.06</td>\n",
       "      <td>0.28</td>\n",
       "      <td>2.29</td>\n",
       "      <td>5.64</td>\n",
       "      <td>1.04</td>\n",
       "      <td>3.92</td>\n",
       "      <td>1065</td>\n",
       "    </tr>\n",
       "    <tr>\n",
       "      <th>1</th>\n",
       "      <td>1</td>\n",
       "      <td>13.20</td>\n",
       "      <td>1.78</td>\n",
       "      <td>2.14</td>\n",
       "      <td>11.2</td>\n",
       "      <td>100</td>\n",
       "      <td>2.65</td>\n",
       "      <td>2.76</td>\n",
       "      <td>0.26</td>\n",
       "      <td>1.28</td>\n",
       "      <td>4.38</td>\n",
       "      <td>1.05</td>\n",
       "      <td>3.40</td>\n",
       "      <td>1050</td>\n",
       "    </tr>\n",
       "    <tr>\n",
       "      <th>2</th>\n",
       "      <td>1</td>\n",
       "      <td>13.16</td>\n",
       "      <td>2.36</td>\n",
       "      <td>2.67</td>\n",
       "      <td>18.6</td>\n",
       "      <td>101</td>\n",
       "      <td>2.80</td>\n",
       "      <td>3.24</td>\n",
       "      <td>0.30</td>\n",
       "      <td>2.81</td>\n",
       "      <td>5.68</td>\n",
       "      <td>1.03</td>\n",
       "      <td>3.17</td>\n",
       "      <td>1185</td>\n",
       "    </tr>\n",
       "    <tr>\n",
       "      <th>3</th>\n",
       "      <td>1</td>\n",
       "      <td>14.37</td>\n",
       "      <td>1.95</td>\n",
       "      <td>2.50</td>\n",
       "      <td>16.8</td>\n",
       "      <td>113</td>\n",
       "      <td>3.85</td>\n",
       "      <td>3.49</td>\n",
       "      <td>0.24</td>\n",
       "      <td>2.18</td>\n",
       "      <td>7.80</td>\n",
       "      <td>0.86</td>\n",
       "      <td>3.45</td>\n",
       "      <td>1480</td>\n",
       "    </tr>\n",
       "    <tr>\n",
       "      <th>4</th>\n",
       "      <td>1</td>\n",
       "      <td>13.24</td>\n",
       "      <td>2.59</td>\n",
       "      <td>2.87</td>\n",
       "      <td>21.0</td>\n",
       "      <td>118</td>\n",
       "      <td>2.80</td>\n",
       "      <td>2.69</td>\n",
       "      <td>0.39</td>\n",
       "      <td>1.82</td>\n",
       "      <td>4.32</td>\n",
       "      <td>1.04</td>\n",
       "      <td>2.93</td>\n",
       "      <td>735</td>\n",
       "    </tr>\n",
       "    <tr>\n",
       "      <th>...</th>\n",
       "      <td>...</td>\n",
       "      <td>...</td>\n",
       "      <td>...</td>\n",
       "      <td>...</td>\n",
       "      <td>...</td>\n",
       "      <td>...</td>\n",
       "      <td>...</td>\n",
       "      <td>...</td>\n",
       "      <td>...</td>\n",
       "      <td>...</td>\n",
       "      <td>...</td>\n",
       "      <td>...</td>\n",
       "      <td>...</td>\n",
       "      <td>...</td>\n",
       "    </tr>\n",
       "    <tr>\n",
       "      <th>173</th>\n",
       "      <td>3</td>\n",
       "      <td>13.71</td>\n",
       "      <td>5.65</td>\n",
       "      <td>2.45</td>\n",
       "      <td>20.5</td>\n",
       "      <td>95</td>\n",
       "      <td>1.68</td>\n",
       "      <td>0.61</td>\n",
       "      <td>0.52</td>\n",
       "      <td>1.06</td>\n",
       "      <td>7.70</td>\n",
       "      <td>0.64</td>\n",
       "      <td>1.74</td>\n",
       "      <td>740</td>\n",
       "    </tr>\n",
       "    <tr>\n",
       "      <th>174</th>\n",
       "      <td>3</td>\n",
       "      <td>13.40</td>\n",
       "      <td>3.91</td>\n",
       "      <td>2.48</td>\n",
       "      <td>23.0</td>\n",
       "      <td>102</td>\n",
       "      <td>1.80</td>\n",
       "      <td>0.75</td>\n",
       "      <td>0.43</td>\n",
       "      <td>1.41</td>\n",
       "      <td>7.30</td>\n",
       "      <td>0.70</td>\n",
       "      <td>1.56</td>\n",
       "      <td>750</td>\n",
       "    </tr>\n",
       "    <tr>\n",
       "      <th>175</th>\n",
       "      <td>3</td>\n",
       "      <td>13.27</td>\n",
       "      <td>4.28</td>\n",
       "      <td>2.26</td>\n",
       "      <td>20.0</td>\n",
       "      <td>120</td>\n",
       "      <td>1.59</td>\n",
       "      <td>0.69</td>\n",
       "      <td>0.43</td>\n",
       "      <td>1.35</td>\n",
       "      <td>10.20</td>\n",
       "      <td>0.59</td>\n",
       "      <td>1.56</td>\n",
       "      <td>835</td>\n",
       "    </tr>\n",
       "    <tr>\n",
       "      <th>176</th>\n",
       "      <td>3</td>\n",
       "      <td>13.17</td>\n",
       "      <td>2.59</td>\n",
       "      <td>2.37</td>\n",
       "      <td>20.0</td>\n",
       "      <td>120</td>\n",
       "      <td>1.65</td>\n",
       "      <td>0.68</td>\n",
       "      <td>0.53</td>\n",
       "      <td>1.46</td>\n",
       "      <td>9.30</td>\n",
       "      <td>0.60</td>\n",
       "      <td>1.62</td>\n",
       "      <td>840</td>\n",
       "    </tr>\n",
       "    <tr>\n",
       "      <th>177</th>\n",
       "      <td>3</td>\n",
       "      <td>14.13</td>\n",
       "      <td>4.10</td>\n",
       "      <td>2.74</td>\n",
       "      <td>24.5</td>\n",
       "      <td>96</td>\n",
       "      <td>2.05</td>\n",
       "      <td>0.76</td>\n",
       "      <td>0.56</td>\n",
       "      <td>1.35</td>\n",
       "      <td>9.20</td>\n",
       "      <td>0.61</td>\n",
       "      <td>1.60</td>\n",
       "      <td>560</td>\n",
       "    </tr>\n",
       "  </tbody>\n",
       "</table>\n",
       "<p>178 rows × 14 columns</p>\n",
       "</div>"
      ],
      "text/plain": [
       "     Class  Alcohol  Malic_acid   Ash  Alcalinity_of_ash  Magnesium  \\\n",
       "0        1    14.23        1.71  2.43               15.6        127   \n",
       "1        1    13.20        1.78  2.14               11.2        100   \n",
       "2        1    13.16        2.36  2.67               18.6        101   \n",
       "3        1    14.37        1.95  2.50               16.8        113   \n",
       "4        1    13.24        2.59  2.87               21.0        118   \n",
       "..     ...      ...         ...   ...                ...        ...   \n",
       "173      3    13.71        5.65  2.45               20.5         95   \n",
       "174      3    13.40        3.91  2.48               23.0        102   \n",
       "175      3    13.27        4.28  2.26               20.0        120   \n",
       "176      3    13.17        2.59  2.37               20.0        120   \n",
       "177      3    14.13        4.10  2.74               24.5         96   \n",
       "\n",
       "     Total_phenols  Flavanoids  Nonflavanoid_phenols  Proanthocyanins  \\\n",
       "0             2.80        3.06                  0.28             2.29   \n",
       "1             2.65        2.76                  0.26             1.28   \n",
       "2             2.80        3.24                  0.30             2.81   \n",
       "3             3.85        3.49                  0.24             2.18   \n",
       "4             2.80        2.69                  0.39             1.82   \n",
       "..             ...         ...                   ...              ...   \n",
       "173           1.68        0.61                  0.52             1.06   \n",
       "174           1.80        0.75                  0.43             1.41   \n",
       "175           1.59        0.69                  0.43             1.35   \n",
       "176           1.65        0.68                  0.53             1.46   \n",
       "177           2.05        0.76                  0.56             1.35   \n",
       "\n",
       "     Color_intensity   Hue    OD  Proline  \n",
       "0               5.64  1.04  3.92     1065  \n",
       "1               4.38  1.05  3.40     1050  \n",
       "2               5.68  1.03  3.17     1185  \n",
       "3               7.80  0.86  3.45     1480  \n",
       "4               4.32  1.04  2.93      735  \n",
       "..               ...   ...   ...      ...  \n",
       "173             7.70  0.64  1.74      740  \n",
       "174             7.30  0.70  1.56      750  \n",
       "175            10.20  0.59  1.56      835  \n",
       "176             9.30  0.60  1.62      840  \n",
       "177             9.20  0.61  1.60      560  \n",
       "\n",
       "[178 rows x 14 columns]"
      ]
     },
     "execution_count": 229,
     "metadata": {},
     "output_type": "execute_result"
    }
   ],
   "source": [
    "data"
   ]
  },
  {
   "cell_type": "code",
   "execution_count": 230,
   "metadata": {},
   "outputs": [],
   "source": [
    "y=data['Class']"
   ]
  },
  {
   "cell_type": "code",
   "execution_count": 231,
   "metadata": {},
   "outputs": [],
   "source": [
    "y_cat= pd.get_dummies(y)"
   ]
  },
  {
   "cell_type": "code",
   "execution_count": 232,
   "metadata": {},
   "outputs": [],
   "source": [
    "x=data.drop('Class', axis=1)"
   ]
  },
  {
   "cell_type": "code",
   "execution_count": 233,
   "metadata": {},
   "outputs": [],
   "source": [
    "import seaborn as sns"
   ]
  },
  {
   "cell_type": "code",
   "execution_count": 234,
   "metadata": {},
   "outputs": [
    {
     "data": {
      "text/plain": [
       "<matplotlib.axes._subplots.AxesSubplot at 0x18bcd1f24c0>"
      ]
     },
     "execution_count": 234,
     "metadata": {},
     "output_type": "execute_result"
    },
    {
     "data": {
      "image/png": "[encoded data removed]",
      "text/plain": [
       "<Figure size 432x288 with 1 Axes>"
      ]
     },
     "metadata": {
      "needs_background": "light"
     },
     "output_type": "display_data"
    }
   ],
   "source": [
    "sns.scatterplot(x='Alcohol',y='Class',data=data)"
   ]
  },
  {
   "cell_type": "code",
   "execution_count": 235,
   "metadata": {},
   "outputs": [],
   "source": [
    "from keras.models import Sequential"
   ]
  },
  {
   "cell_type": "code",
   "execution_count": 236,
   "metadata": {},
   "outputs": [],
   "source": [
    "model=Sequential()"
   ]
  },
  {
   "cell_type": "markdown",
   "metadata": {},
   "source": [
    "# Create the layers and add the Neurons"
   ]
  },
  {
   "cell_type": "code",
   "execution_count": 237,
   "metadata": {},
   "outputs": [],
   "source": [
    "from keras.layers import Dense"
   ]
  },
  {
   "cell_type": "code",
   "execution_count": 238,
   "metadata": {},
   "outputs": [],
   "source": [
    "model.add(Dense(units=5, input_shape=(13, ), activation='relu', kernel_initializer='he_normal' ))"
   ]
  },
  {
   "cell_type": "code",
   "execution_count": 239,
   "metadata": {},
   "outputs": [],
   "source": [
    "model.add(Dense(units=8,  activation='relu', kernel_initializer='he_normal' ))"
   ]
  },
  {
   "cell_type": "code",
   "execution_count": 240,
   "metadata": {},
   "outputs": [],
   "source": [
    "model.add(Dense(units=8,  activation='relu', kernel_initializer='he_normal' ))"
   ]
  },
  {
   "cell_type": "code",
   "execution_count": 241,
   "metadata": {},
   "outputs": [],
   "source": [
    "model.add(Dense(units=3,  activation='softmax'))#, kernel_initializer='zeros', ))"
   ]
  },
  {
   "cell_type": "code",
   "execution_count": 242,
   "metadata": {},
   "outputs": [
    {
     "name": "stdout",
     "output_type": "stream",
     "text": [
      "Model: \"sequential_6\"\n",
      "_________________________________________________________________\n",
      "Layer (type)                 Output Shape              Param #   \n",
      "=================================================================\n",
      "dense_28 (Dense)             (None, 5)                 70        \n",
      "_________________________________________________________________\n",
      "dense_29 (Dense)             (None, 8)                 48        \n",
      "_________________________________________________________________\n",
      "dense_30 (Dense)             (None, 8)                 72        \n",
      "_________________________________________________________________\n",
      "dense_31 (Dense)             (None, 3)                 27        \n",
      "=================================================================\n",
      "Total params: 217\n",
      "Trainable params: 217\n",
      "Non-trainable params: 0\n",
      "_________________________________________________________________\n"
     ]
    }
   ],
   "source": [
    "model.summary()"
   ]
  },
  {
   "cell_type": "code",
   "execution_count": 243,
   "metadata": {},
   "outputs": [
    {
     "data": {
      "text/plain": [
       "{'name': 'sequential_6',\n",
       " 'layers': [{'class_name': 'InputLayer',\n",
       "   'config': {'batch_input_shape': (None, 13),\n",
       "    'dtype': 'float32',\n",
       "    'sparse': False,\n",
       "    'ragged': False,\n",
       "    'name': 'dense_28_input'}},\n",
       "  {'class_name': 'Dense',\n",
       "   'config': {'name': 'dense_28',\n",
       "    'trainable': True,\n",
       "    'batch_input_shape': (None, 13),\n",
       "    'dtype': 'float32',\n",
       "    'units': 5,\n",
       "    'activation': 'relu',\n",
       "    'use_bias': True,\n",
       "    'kernel_initializer': {'class_name': 'HeNormal', 'config': {'seed': None}},\n",
       "    'bias_initializer': {'class_name': 'Zeros', 'config': {}},\n",
       "    'kernel_regularizer': None,\n",
       "    'bias_regularizer': None,\n",
       "    'activity_regularizer': None,\n",
       "    'kernel_constraint': None,\n",
       "    'bias_constraint': None}},\n",
       "  {'class_name': 'Dense',\n",
       "   'config': {'name': 'dense_29',\n",
       "    'trainable': True,\n",
       "    'dtype': 'float32',\n",
       "    'units': 8,\n",
       "    'activation': 'relu',\n",
       "    'use_bias': True,\n",
       "    'kernel_initializer': {'class_name': 'HeNormal', 'config': {'seed': None}},\n",
       "    'bias_initializer': {'class_name': 'Zeros', 'config': {}},\n",
       "    'kernel_regularizer': None,\n",
       "    'bias_regularizer': None,\n",
       "    'activity_regularizer': None,\n",
       "    'kernel_constraint': None,\n",
       "    'bias_constraint': None}},\n",
       "  {'class_name': 'Dense',\n",
       "   'config': {'name': 'dense_30',\n",
       "    'trainable': True,\n",
       "    'dtype': 'float32',\n",
       "    'units': 8,\n",
       "    'activation': 'relu',\n",
       "    'use_bias': True,\n",
       "    'kernel_initializer': {'class_name': 'HeNormal', 'config': {'seed': None}},\n",
       "    'bias_initializer': {'class_name': 'Zeros', 'config': {}},\n",
       "    'kernel_regularizer': None,\n",
       "    'bias_regularizer': None,\n",
       "    'activity_regularizer': None,\n",
       "    'kernel_constraint': None,\n",
       "    'bias_constraint': None}},\n",
       "  {'class_name': 'Dense',\n",
       "   'config': {'name': 'dense_31',\n",
       "    'trainable': True,\n",
       "    'dtype': 'float32',\n",
       "    'units': 3,\n",
       "    'activation': 'softmax',\n",
       "    'use_bias': True,\n",
       "    'kernel_initializer': {'class_name': 'GlorotUniform',\n",
       "     'config': {'seed': None}},\n",
       "    'bias_initializer': {'class_name': 'Zeros', 'config': {}},\n",
       "    'kernel_regularizer': None,\n",
       "    'bias_regularizer': None,\n",
       "    'activity_regularizer': None,\n",
       "    'kernel_constraint': None,\n",
       "    'bias_constraint': None}}]}"
      ]
     },
     "execution_count": 243,
     "metadata": {},
     "output_type": "execute_result"
    }
   ],
   "source": [
    "model.get_config()"
   ]
  },
  {
   "cell_type": "code",
   "execution_count": 244,
   "metadata": {},
   "outputs": [],
   "source": [
    "from keras.optimizers import RMSprop"
   ]
  },
  {
   "cell_type": "code",
   "execution_count": 245,
   "metadata": {},
   "outputs": [],
   "source": [
    "model.compile(optimizer=RMSprop(learning_rate=0.001),loss='categorical_crossentropy',metrics=['accuracy'])"
   ]
  },
  {
   "cell_type": "code",
   "execution_count": 246,
   "metadata": {},
   "outputs": [
    {
     "name": "stdout",
     "output_type": "stream",
     "text": [
      "Epoch 1/150\n",
      "6/6 [==============================] - 7s 6ms/step - loss: 154.7646 - accuracy: 0.3372\n",
      "Epoch 2/150\n",
      "6/6 [==============================] - 0s 7ms/step - loss: 127.1851 - accuracy: 0.2374\n",
      "Epoch 3/150\n",
      "6/6 [==============================] - 0s 5ms/step - loss: 110.1366 - accuracy: 0.2448\n",
      "Epoch 4/150\n",
      "6/6 [==============================] - 0s 5ms/step - loss: 102.3365 - accuracy: 0.2228\n",
      "Epoch 5/150\n",
      "6/6 [==============================] - 0s 7ms/step - loss: 109.2474 - accuracy: 0.2651\n",
      "Epoch 6/150\n",
      "6/6 [==============================] - 0s 5ms/step - loss: 94.2920 - accuracy: 0.3743\n",
      "Epoch 7/150\n",
      "6/6 [==============================] - 0s 5ms/step - loss: 102.0265 - accuracy: 0.4011\n",
      "Epoch 8/150\n",
      "6/6 [==============================] - 0s 5ms/step - loss: 74.8982 - accuracy: 0.5302\n",
      "Epoch 9/150\n",
      "6/6 [==============================] - 0s 5ms/step - loss: 72.5260 - accuracy: 0.5030\n",
      "Epoch 10/150\n",
      "6/6 [==============================] - 0s 5ms/step - loss: 68.0061 - accuracy: 0.4090\n",
      "Epoch 11/150\n",
      "6/6 [==============================] - 0s 5ms/step - loss: 59.1886 - accuracy: 0.5637\n",
      "Epoch 12/150\n",
      "6/6 [==============================] - 0s 5ms/step - loss: 54.7643 - accuracy: 0.6225\n",
      "Epoch 13/150\n",
      "6/6 [==============================] - 0s 5ms/step - loss: 54.6832 - accuracy: 0.5470\n",
      "Epoch 14/150\n",
      "6/6 [==============================] - 0s 4ms/step - loss: 44.7329 - accuracy: 0.6106\n",
      "Epoch 15/150\n",
      "6/6 [==============================] - 0s 5ms/step - loss: 46.8549 - accuracy: 0.5680\n",
      "Epoch 16/150\n",
      "6/6 [==============================] - 0s 5ms/step - loss: 37.6173 - accuracy: 0.4852\n",
      "Epoch 17/150\n",
      "6/6 [==============================] - 0s 5ms/step - loss: 36.3433 - accuracy: 0.5089\n",
      "Epoch 18/150\n",
      "6/6 [==============================] - 0s 5ms/step - loss: 35.6120 - accuracy: 0.4769\n",
      "Epoch 19/150\n",
      "6/6 [==============================] - 0s 4ms/step - loss: 33.3062 - accuracy: 0.5171\n",
      "Epoch 20/150\n",
      "6/6 [==============================] - 0s 5ms/step - loss: 24.9504 - accuracy: 0.5142\n",
      "Epoch 21/150\n",
      "6/6 [==============================] - 0s 5ms/step - loss: 23.9664 - accuracy: 0.5024\n",
      "Epoch 22/150\n",
      "6/6 [==============================] - 0s 5ms/step - loss: 20.3099 - accuracy: 0.5919\n",
      "Epoch 23/150\n",
      "6/6 [==============================] - 0s 5ms/step - loss: 18.7221 - accuracy: 0.5866\n",
      "Epoch 24/150\n",
      "6/6 [==============================] - 0s 5ms/step - loss: 17.4421 - accuracy: 0.5145\n",
      "Epoch 25/150\n",
      "6/6 [==============================] - 0s 5ms/step - loss: 14.1973 - accuracy: 0.5779\n",
      "Epoch 26/150\n",
      "6/6 [==============================] - 0s 5ms/step - loss: 11.6919 - accuracy: 0.6094\n",
      "Epoch 27/150\n",
      "6/6 [==============================] - 0s 4ms/step - loss: 10.4018 - accuracy: 0.5764\n",
      "Epoch 28/150\n",
      "6/6 [==============================] - 0s 5ms/step - loss: 7.9954 - accuracy: 0.6006\n",
      "Epoch 29/150\n",
      "6/6 [==============================] - 0s 5ms/step - loss: 7.3572 - accuracy: 0.5864\n",
      "Epoch 30/150\n",
      "6/6 [==============================] - 0s 5ms/step - loss: 6.9192 - accuracy: 0.4827\n",
      "Epoch 31/150\n",
      "6/6 [==============================] - 0s 4ms/step - loss: 6.1318 - accuracy: 0.4820\n",
      "Epoch 32/150\n",
      "6/6 [==============================] - 0s 5ms/step - loss: 5.0887 - accuracy: 0.4668\n",
      "Epoch 33/150\n",
      "6/6 [==============================] - 0s 5ms/step - loss: 4.1531 - accuracy: 0.4233\n",
      "Epoch 34/150\n",
      "6/6 [==============================] - 0s 5ms/step - loss: 3.4647 - accuracy: 0.4887\n",
      "Epoch 35/150\n",
      "6/6 [==============================] - 0s 5ms/step - loss: 3.0789 - accuracy: 0.4482\n",
      "Epoch 36/150\n",
      "6/6 [==============================] - 0s 5ms/step - loss: 2.3199 - accuracy: 0.5033\n",
      "Epoch 37/150\n",
      "6/6 [==============================] - 0s 5ms/step - loss: 1.5599 - accuracy: 0.5581\n",
      "Epoch 38/150\n",
      "6/6 [==============================] - 0s 5ms/step - loss: 1.1117 - accuracy: 0.5950\n",
      "Epoch 39/150\n",
      "6/6 [==============================] - 0s 4ms/step - loss: 0.9164 - accuracy: 0.5146\n",
      "Epoch 40/150\n",
      "6/6 [==============================] - 0s 4ms/step - loss: 0.9169 - accuracy: 0.4695\n",
      "Epoch 41/150\n",
      "6/6 [==============================] - 0s 5ms/step - loss: 0.9423 - accuracy: 0.5568\n",
      "Epoch 42/150\n",
      "6/6 [==============================] - 0s 5ms/step - loss: 0.9137 - accuracy: 0.5937\n",
      "Epoch 43/150\n",
      "6/6 [==============================] - 0s 4ms/step - loss: 0.8260 - accuracy: 0.6314\n",
      "Epoch 44/150\n",
      "6/6 [==============================] - 0s 5ms/step - loss: 0.8477 - accuracy: 0.6502\n",
      "Epoch 45/150\n",
      "6/6 [==============================] - 0s 5ms/step - loss: 0.6962 - accuracy: 0.6808\n",
      "Epoch 46/150\n",
      "6/6 [==============================] - 0s 4ms/step - loss: 0.8115 - accuracy: 0.6367\n",
      "Epoch 47/150\n",
      "6/6 [==============================] - 0s 4ms/step - loss: 0.8504 - accuracy: 0.6382\n",
      "Epoch 48/150\n",
      "6/6 [==============================] - 0s 5ms/step - loss: 0.7731 - accuracy: 0.6622\n",
      "Epoch 49/150\n",
      "6/6 [==============================] - 0s 5ms/step - loss: 1.0549 - accuracy: 0.5956\n",
      "Epoch 50/150\n",
      "6/6 [==============================] - 0s 5ms/step - loss: 0.7483 - accuracy: 0.6316\n",
      "Epoch 51/150\n",
      "6/6 [==============================] - 0s 5ms/step - loss: 0.8165 - accuracy: 0.6199\n",
      "Epoch 52/150\n",
      "6/6 [==============================] - 0s 5ms/step - loss: 0.7059 - accuracy: 0.6625\n",
      "Epoch 53/150\n",
      "6/6 [==============================] - 0s 6ms/step - loss: 0.7302 - accuracy: 0.6400\n",
      "Epoch 54/150\n",
      "6/6 [==============================] - 0s 5ms/step - loss: 0.8852 - accuracy: 0.5696\n",
      "Epoch 55/150\n",
      "6/6 [==============================] - 0s 6ms/step - loss: 0.8969 - accuracy: 0.5805\n",
      "Epoch 56/150\n",
      "6/6 [==============================] - 0s 4ms/step - loss: 0.7945 - accuracy: 0.6407\n",
      "Epoch 57/150\n",
      "6/6 [==============================] - 0s 6ms/step - loss: 0.8223 - accuracy: 0.6383\n",
      "Epoch 58/150\n",
      "6/6 [==============================] - 0s 6ms/step - loss: 0.9668 - accuracy: 0.5846\n",
      "Epoch 59/150\n",
      "6/6 [==============================] - 0s 5ms/step - loss: 0.7100 - accuracy: 0.6816\n",
      "Epoch 60/150\n",
      "6/6 [==============================] - 0s 5ms/step - loss: 0.7440 - accuracy: 0.6694\n",
      "Epoch 61/150\n",
      "6/6 [==============================] - 0s 5ms/step - loss: 0.9059 - accuracy: 0.5428\n",
      "Epoch 62/150\n",
      "6/6 [==============================] - 0s 5ms/step - loss: 0.8791 - accuracy: 0.5748\n",
      "Epoch 63/150\n",
      "6/6 [==============================] - 0s 6ms/step - loss: 0.7597 - accuracy: 0.5962\n",
      "Epoch 64/150\n",
      "6/6 [==============================] - 0s 5ms/step - loss: 0.6809 - accuracy: 0.6800\n",
      "Epoch 65/150\n",
      "6/6 [==============================] - 0s 5ms/step - loss: 0.8192 - accuracy: 0.6533\n",
      "Epoch 66/150\n",
      "6/6 [==============================] - 0s 5ms/step - loss: 0.8239 - accuracy: 0.5933\n",
      "Epoch 67/150\n",
      "6/6 [==============================] - 0s 6ms/step - loss: 0.7911 - accuracy: 0.6355\n",
      "Epoch 68/150\n",
      "6/6 [==============================] - 0s 5ms/step - loss: 0.7551 - accuracy: 0.6067\n",
      "Epoch 69/150\n",
      "6/6 [==============================] - 0s 5ms/step - loss: 0.6905 - accuracy: 0.6621\n",
      "Epoch 70/150\n",
      "6/6 [==============================] - 0s 6ms/step - loss: 0.8040 - accuracy: 0.6251\n",
      "Epoch 71/150\n",
      "6/6 [==============================] - 0s 5ms/step - loss: 0.7688 - accuracy: 0.6185\n",
      "Epoch 72/150\n",
      "6/6 [==============================] - 0s 5ms/step - loss: 0.7511 - accuracy: 0.6599\n",
      "Epoch 73/150\n",
      "6/6 [==============================] - 0s 5ms/step - loss: 0.9339 - accuracy: 0.5345\n",
      "Epoch 74/150\n",
      "6/6 [==============================] - 0s 5ms/step - loss: 0.6992 - accuracy: 0.6626\n",
      "Epoch 75/150\n",
      "6/6 [==============================] - 0s 4ms/step - loss: 0.6983 - accuracy: 0.6277\n",
      "Epoch 76/150\n",
      "6/6 [==============================] - 0s 5ms/step - loss: 0.8106 - accuracy: 0.6025\n",
      "Epoch 77/150\n",
      "6/6 [==============================] - 0s 7ms/step - loss: 0.7429 - accuracy: 0.6149\n",
      "Epoch 78/150\n",
      "6/6 [==============================] - 0s 5ms/step - loss: 0.7783 - accuracy: 0.6023\n",
      "Epoch 79/150\n",
      "6/6 [==============================] - 0s 4ms/step - loss: 0.7426 - accuracy: 0.6235\n",
      "Epoch 80/150\n",
      "6/6 [==============================] - 0s 4ms/step - loss: 0.7818 - accuracy: 0.6232\n",
      "Epoch 81/150\n",
      "6/6 [==============================] - 0s 4ms/step - loss: 0.7030 - accuracy: 0.6751\n",
      "Epoch 82/150\n",
      "6/6 [==============================] - 0s 4ms/step - loss: 0.8503 - accuracy: 0.5832\n",
      "Epoch 83/150\n",
      "6/6 [==============================] - 0s 5ms/step - loss: 0.9290 - accuracy: 0.5827\n",
      "Epoch 84/150\n"
     ]
    },
    {
     "name": "stdout",
     "output_type": "stream",
     "text": [
      "6/6 [==============================] - 0s 4ms/step - loss: 0.7042 - accuracy: 0.6343\n",
      "Epoch 85/150\n",
      "6/6 [==============================] - 0s 4ms/step - loss: 0.8215 - accuracy: 0.5688\n",
      "Epoch 86/150\n",
      "6/6 [==============================] - 0s 4ms/step - loss: 0.7207 - accuracy: 0.6352\n",
      "Epoch 87/150\n",
      "6/6 [==============================] - 0s 5ms/step - loss: 0.7899 - accuracy: 0.5932\n",
      "Epoch 88/150\n",
      "6/6 [==============================] - 0s 4ms/step - loss: 0.7280 - accuracy: 0.6595\n",
      "Epoch 89/150\n",
      "6/6 [==============================] - 0s 5ms/step - loss: 0.7084 - accuracy: 0.6515\n",
      "Epoch 90/150\n",
      "6/6 [==============================] - 0s 5ms/step - loss: 0.7073 - accuracy: 0.6381\n",
      "Epoch 91/150\n",
      "6/6 [==============================] - 0s 5ms/step - loss: 0.8059 - accuracy: 0.5936\n",
      "Epoch 92/150\n",
      "6/6 [==============================] - 0s 4ms/step - loss: 0.7240 - accuracy: 0.6683\n",
      "Epoch 93/150\n",
      "6/6 [==============================] - 0s 4ms/step - loss: 0.7225 - accuracy: 0.6464\n",
      "Epoch 94/150\n",
      "6/6 [==============================] - 0s 4ms/step - loss: 0.8079 - accuracy: 0.5309\n",
      "Epoch 95/150\n",
      "6/6 [==============================] - 0s 6ms/step - loss: 0.6671 - accuracy: 0.6598\n",
      "Epoch 96/150\n",
      "6/6 [==============================] - 0s 4ms/step - loss: 0.7321 - accuracy: 0.6148\n",
      "Epoch 97/150\n",
      "6/6 [==============================] - 0s 4ms/step - loss: 0.8038 - accuracy: 0.5985\n",
      "Epoch 98/150\n",
      "6/6 [==============================] - 0s 4ms/step - loss: 0.8565 - accuracy: 0.6519\n",
      "Epoch 99/150\n",
      "6/6 [==============================] - 0s 5ms/step - loss: 0.7523 - accuracy: 0.6156\n",
      "Epoch 100/150\n",
      "6/6 [==============================] - 0s 5ms/step - loss: 0.7075 - accuracy: 0.6660\n",
      "Epoch 101/150\n",
      "6/6 [==============================] - 0s 4ms/step - loss: 0.7733 - accuracy: 0.5935\n",
      "Epoch 102/150\n",
      "6/6 [==============================] - 0s 4ms/step - loss: 0.7068 - accuracy: 0.6435\n",
      "Epoch 103/150\n",
      "6/6 [==============================] - 0s 5ms/step - loss: 0.7898 - accuracy: 0.5965\n",
      "Epoch 104/150\n",
      "6/6 [==============================] - 0s 5ms/step - loss: 0.6900 - accuracy: 0.6602\n",
      "Epoch 105/150\n",
      "6/6 [==============================] - 0s 5ms/step - loss: 0.7407 - accuracy: 0.6016\n",
      "Epoch 106/150\n",
      "6/6 [==============================] - 0s 5ms/step - loss: 0.7079 - accuracy: 0.6223\n",
      "Epoch 107/150\n",
      "6/6 [==============================] - 0s 6ms/step - loss: 0.6804 - accuracy: 0.6549\n",
      "Epoch 108/150\n",
      "6/6 [==============================] - 0s 4ms/step - loss: 0.7976 - accuracy: 0.6658\n",
      "Epoch 109/150\n",
      "6/6 [==============================] - 0s 4ms/step - loss: 0.7171 - accuracy: 0.6485\n",
      "Epoch 110/150\n",
      "6/6 [==============================] - 0s 4ms/step - loss: 0.7352 - accuracy: 0.6347\n",
      "Epoch 111/150\n",
      "6/6 [==============================] - 0s 4ms/step - loss: 0.7892 - accuracy: 0.5933\n",
      "Epoch 112/150\n",
      "6/6 [==============================] - 0s 4ms/step - loss: 0.7336 - accuracy: 0.6384\n",
      "Epoch 113/150\n",
      "6/6 [==============================] - 0s 4ms/step - loss: 0.6658 - accuracy: 0.7132\n",
      "Epoch 114/150\n",
      "6/6 [==============================] - 0s 5ms/step - loss: 0.8362 - accuracy: 0.5732\n",
      "Epoch 115/150\n",
      "6/6 [==============================] - 0s 5ms/step - loss: 0.7006 - accuracy: 0.6729\n",
      "Epoch 116/150\n",
      "6/6 [==============================] - 0s 4ms/step - loss: 0.8047 - accuracy: 0.6343\n",
      "Epoch 117/150\n",
      "6/6 [==============================] - 0s 4ms/step - loss: 0.6567 - accuracy: 0.6808\n",
      "Epoch 118/150\n",
      "6/6 [==============================] - 0s 5ms/step - loss: 0.6954 - accuracy: 0.6816\n",
      "Epoch 119/150\n",
      "6/6 [==============================] - 0s 5ms/step - loss: 0.6717 - accuracy: 0.6808\n",
      "Epoch 120/150\n",
      "6/6 [==============================] - 0s 4ms/step - loss: 0.6927 - accuracy: 0.6870\n",
      "Epoch 121/150\n",
      "6/6 [==============================] - 0s 4ms/step - loss: 0.7353 - accuracy: 0.6184\n",
      "Epoch 122/150\n",
      "6/6 [==============================] - 0s 5ms/step - loss: 0.6897 - accuracy: 0.6804\n",
      "Epoch 123/150\n",
      "6/6 [==============================] - 0s 5ms/step - loss: 0.7342 - accuracy: 0.5999\n",
      "Epoch 124/150\n",
      "6/6 [==============================] - 0s 4ms/step - loss: 0.6745 - accuracy: 0.6687\n",
      "Epoch 125/150\n",
      "6/6 [==============================] - 0s 5ms/step - loss: 0.6930 - accuracy: 0.6633\n",
      "Epoch 126/150\n",
      "6/6 [==============================] - 0s 4ms/step - loss: 0.7159 - accuracy: 0.6400\n",
      "Epoch 127/150\n",
      "6/6 [==============================] - 0s 5ms/step - loss: 0.7058 - accuracy: 0.6384\n",
      "Epoch 128/150\n",
      "6/6 [==============================] - 0s 4ms/step - loss: 0.7000 - accuracy: 0.6614\n",
      "Epoch 129/150\n",
      "6/6 [==============================] - 0s 4ms/step - loss: 0.6735 - accuracy: 0.6341\n",
      "Epoch 130/150\n",
      "6/6 [==============================] - 0s 4ms/step - loss: 0.6855 - accuracy: 0.6359\n",
      "Epoch 131/150\n",
      "6/6 [==============================] - 0s 5ms/step - loss: 0.6778 - accuracy: 0.6817\n",
      "Epoch 132/150\n",
      "6/6 [==============================] - 0s 4ms/step - loss: 0.7538 - accuracy: 0.6116\n",
      "Epoch 133/150\n",
      "6/6 [==============================] - 0s 4ms/step - loss: 0.6880 - accuracy: 0.6700\n",
      "Epoch 134/150\n",
      "6/6 [==============================] - 0s 4ms/step - loss: 0.7140 - accuracy: 0.6170\n",
      "Epoch 135/150\n",
      "6/6 [==============================] - 0s 4ms/step - loss: 0.6469 - accuracy: 0.6985\n",
      "Epoch 136/150\n",
      "6/6 [==============================] - 0s 5ms/step - loss: 0.7078 - accuracy: 0.6520\n",
      "Epoch 137/150\n",
      "6/6 [==============================] - 0s 5ms/step - loss: 0.7379 - accuracy: 0.6405\n",
      "Epoch 138/150\n",
      "6/6 [==============================] - 0s 4ms/step - loss: 0.6933 - accuracy: 0.5985\n",
      "Epoch 139/150\n",
      "6/6 [==============================] - 0s 7ms/step - loss: 0.6667 - accuracy: 0.6795\n",
      "Epoch 140/150\n",
      "6/6 [==============================] - 0s 4ms/step - loss: 0.6648 - accuracy: 0.6416\n",
      "Epoch 141/150\n",
      "6/6 [==============================] - 0s 5ms/step - loss: 0.7177 - accuracy: 0.6118\n",
      "Epoch 142/150\n",
      "6/6 [==============================] - 0s 4ms/step - loss: 0.6776 - accuracy: 0.6215\n",
      "Epoch 143/150\n",
      "6/6 [==============================] - 0s 4ms/step - loss: 0.7422 - accuracy: 0.6407\n",
      "Epoch 144/150\n",
      "6/6 [==============================] - 0s 4ms/step - loss: 0.6891 - accuracy: 0.6463\n",
      "Epoch 145/150\n",
      "6/6 [==============================] - 0s 4ms/step - loss: 0.6514 - accuracy: 0.6848\n",
      "Epoch 146/150\n",
      "6/6 [==============================] - 0s 4ms/step - loss: 0.6617 - accuracy: 0.6642\n",
      "Epoch 147/150\n",
      "6/6 [==============================] - 0s 4ms/step - loss: 0.7047 - accuracy: 0.6515\n",
      "Epoch 148/150\n",
      "6/6 [==============================] - 0s 4ms/step - loss: 0.7027 - accuracy: 0.6371\n",
      "Epoch 149/150\n",
      "6/6 [==============================] - 0s 4ms/step - loss: 0.6556 - accuracy: 0.6942\n",
      "Epoch 150/150\n",
      "6/6 [==============================] - 0s 4ms/step - loss: 0.6548 - accuracy: 0.6713\n"
     ]
    },
    {
     "data": {
      "text/plain": [
       "<keras.callbacks.History at 0x18bcd29c700>"
      ]
     },
     "execution_count": 246,
     "metadata": {},
     "output_type": "execute_result"
    }
   ],
   "source": [
    "model.fit(x,y_cat,epochs=150)"
   ]
  },
  {
   "cell_type": "code",
   "execution_count": 247,
   "metadata": {},
   "outputs": [],
   "source": [
    "l=model.history.history['loss']"
   ]
  },
  {
   "cell_type": "code",
   "execution_count": 248,
   "metadata": {},
   "outputs": [],
   "source": [
    "l1=pd.DataFrame(l)"
   ]
  },
  {
   "cell_type": "code",
   "execution_count": 249,
   "metadata": {},
   "outputs": [
    {
     "data": {
      "text/plain": [
       "<matplotlib.axes._subplots.AxesSubplot at 0x18bc7f35fa0>"
      ]
     },
     "execution_count": 249,
     "metadata": {},
     "output_type": "execute_result"
    },
    {
     "data": {
      "image/png": "[encoded data removed]",
      "text/plain": [
       "<Figure size 432x288 with 1 Axes>"
      ]
     },
     "metadata": {
      "needs_background": "light"
     },
     "output_type": "display_data"
    }
   ],
   "source": [
    "l1.plot()"
   ]
  },
  {
   "cell_type": "code",
   "execution_count": 250,
   "metadata": {},
   "outputs": [],
   "source": [
    "a=model.history.history['accuracy']"
   ]
  },
  {
   "cell_type": "code",
   "execution_count": 251,
   "metadata": {},
   "outputs": [],
   "source": [
    "a1=pd.DataFrame(a)"
   ]
  },
  {
   "cell_type": "code",
   "execution_count": 252,
   "metadata": {},
   "outputs": [
    {
     "data": {
      "text/plain": [
       "<matplotlib.axes._subplots.AxesSubplot at 0x18bc7fee580>"
      ]
     },
     "execution_count": 252,
     "metadata": {},
     "output_type": "execute_result"
    },
    {
     "data": {
      "image/png": "[encoded data removed]",
      "text/plain": [
       "<Figure size 432x288 with 1 Axes>"
      ]
     },
     "metadata": {
      "needs_background": "light"
     },
     "output_type": "display_data"
    }
   ],
   "source": [
    "a1.plot()"
   ]
  },
  {
   "cell_type": "code",
   "execution_count": 253,
   "metadata": {},
   "outputs": [
    {
     "data": {
      "text/plain": [
       "array([1.316e+01, 2.360e+00, 2.670e+00, 1.860e+01, 1.010e+02, 2.800e+00,\n",
       "       3.240e+00, 3.000e-01, 2.810e+00, 5.680e+00, 1.030e+00, 3.170e+00,\n",
       "       1.185e+03])"
      ]
     },
     "execution_count": 253,
     "metadata": {},
     "output_type": "execute_result"
    }
   ],
   "source": [
    "x.iloc[2].values"
   ]
  },
  {
   "cell_type": "code",
   "execution_count": 254,
   "metadata": {},
   "outputs": [
    {
     "data": {
      "text/plain": [
       "array([[0.996899  , 0.00155965, 0.00154138]], dtype=float32)"
      ]
     },
     "execution_count": 254,
     "metadata": {},
     "output_type": "execute_result"
    }
   ],
   "source": [
    "# to check it is class 1 or not\n",
    "model.predict([[1.316e+01, 2.360e+00, 2.670e+00, 1.860e+01, 1.010e+02, 2.800e+00,\n",
    "       3.240e+00, 3.000e-01, 2.810e+00, 5.680e+00, 1.030e+00, 3.170e+00,\n",
    "       1.185e+03]])"
   ]
  },
  {
   "cell_type": "code",
   "execution_count": 255,
   "metadata": {},
   "outputs": [
    {
     "data": {
      "text/plain": [
       "array([1.237e+01, 1.070e+00, 2.100e+00, 1.850e+01, 8.800e+01, 3.520e+00,\n",
       "       3.750e+00, 2.400e-01, 1.950e+00, 4.500e+00, 1.040e+00, 2.770e+00,\n",
       "       6.600e+02])"
      ]
     },
     "execution_count": 255,
     "metadata": {},
     "output_type": "execute_result"
    }
   ],
   "source": [
    "x.iloc[98].values"
   ]
  },
  {
   "cell_type": "code",
   "execution_count": 256,
   "metadata": {},
   "outputs": [
    {
     "data": {
      "text/plain": [
       "array([[0.4339872 , 0.10747939, 0.4585335 ]], dtype=float32)"
      ]
     },
     "execution_count": 256,
     "metadata": {},
     "output_type": "execute_result"
    }
   ],
   "source": [
    "# to check it is class 2 or not\n",
    "model.predict([[1.237e+01, 1.070e+00, 2.100e+00, 1.850e+01, 8.800e+01, 3.520e+00,\n",
    "       3.750e+00, 2.400e-01, 1.950e+00, 4.500e+00, 1.040e+00, 2.770e+00,\n",
    "       6.600e+02]])"
   ]
  },
  {
   "cell_type": "code",
   "execution_count": 257,
   "metadata": {},
   "outputs": [
    {
     "data": {
      "text/plain": [
       "array([1.35e+01, 3.12e+00, 2.62e+00, 2.40e+01, 1.23e+02, 1.40e+00,\n",
       "       1.57e+00, 2.20e-01, 1.25e+00, 8.60e+00, 5.90e-01, 1.30e+00,\n",
       "       5.00e+02])"
      ]
     },
     "execution_count": 257,
     "metadata": {},
     "output_type": "execute_result"
    }
   ],
   "source": [
    "x.iloc[150].values"
   ]
  },
  {
   "cell_type": "code",
   "execution_count": 258,
   "metadata": {},
   "outputs": [
    {
     "data": {
      "text/plain": [
       "array([[0.01822429, 0.41622758, 0.5655481 ]], dtype=float32)"
      ]
     },
     "execution_count": 258,
     "metadata": {},
     "output_type": "execute_result"
    }
   ],
   "source": [
    "# to check it is class 3 or not\n",
    "model.predict([[1.35e+01, 3.12e+00, 2.62e+00, 2.40e+01, 1.23e+02, 1.40e+00,\n",
    "       1.57e+00, 2.20e-01, 1.25e+00, 8.60e+00, 5.90e-01, 1.30e+00,\n",
    "       5.00e+02]])"
   ]
  },
  {
   "cell_type": "markdown",
   "metadata": {},
   "source": [
    "# Completed"
   ]
  }
 ],
 "metadata": {
  "kernelspec": {
   "display_name": "Python 3",
   "language": "python",
   "name": "python3"
  },
  "language_info": {
   "codemirror_mode": {
    "name": "ipython",
    "version": 3
   },
   "file_extension": ".py",
   "mimetype": "text/x-python",
   "name": "python",
   "nbconvert_exporter": "python",
   "pygments_lexer": "ipython3",
   "version": "3.8.3"
  }
 },
 "nbformat": 4,
 "nbformat_minor": 4
}
